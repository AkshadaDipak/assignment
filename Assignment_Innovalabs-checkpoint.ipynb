{
 "cells": [
  {
   "cell_type": "code",
   "execution_count": null,
   "id": "7f38fd04",
   "metadata": {},
   "outputs": [],
   "source": [
    "1.Email Spam Filtering:\n",
    "Steps:\n",
    "Data Collection: Gather a labeled dataset of emails, where each email is tagged as spam or ham (non-spam). \n",
    "    The dataset should include both the email content and their corresponding labels.\n",
    "Data Preprocessing: Preprocess the email data to prepare it for feature extraction. \n",
    "    This may involve removing HTML tags, handling special characters, converting to lowercase, \n",
    "    checking correlation, checking imbalance dataset, checking missing values, checking datatypes, \n",
    "    checking outliers, and skewness\n",
    "Feature Extraction: Transform the preprocessed email data into numerical feature vectors that machine learning \n",
    "    algorithms can process. Common approaches include using encoding, handling outliers, handling dataset.\n",
    "Splitting the Dataset: Split the dataset into training and testing subsets. The training set will be used to train \n",
    "    the machine learning model, while the testing set will be used to evaluate its performance.\n",
    "Model Selection and Training: Choose a suitable machine learning algorithm for spam classification, such as \n",
    "    Naive Bayes, Support Vector Machines (SVM), or Random Forest. Train the chosen model using the training dataset.\n",
    "Model Evaluation: Evaluate the trained model's performance using appropriate evaluation metrics such as accuracy, \n",
    "    precision, recall, and F1-score. This step helps assess how well the model performs in classifying spam and \n",
    "    non-spam emails.\n",
    "Fine-tuning and Validation: Fine-tune the model by adjusting hyperparameters and validating its performance \n",
    "    using techniques like cross-validation or a separate validation dataset. This process helps optimize the model's \n",
    "    performance and generalization ability.\n",
    "Final Model Deployment: Once satisfied with the model's performance, deploy it to classify new, unseen emails. \n",
    "    Preprocess the incoming email, extract the same features used during training, and feed them into the \n",
    "    trained model for classification.\n",
    "Monitoring and Maintenance: Continuously monitor the spam filtering system's performance and periodically retrain \n",
    "    the model with new data to adapt to evolving spam patterns. Additionally, consider gathering user feedback to \n",
    "    identify and correct misclassifications.\n"
   ]
  },
  {
   "cell_type": "code",
   "execution_count": null,
   "id": "8b132799",
   "metadata": {},
   "outputs": [],
   "source": [
    "Code:"
   ]
  },
  {
   "cell_type": "code",
   "execution_count": 1,
   "id": "4126ec29",
   "metadata": {},
   "outputs": [
    {
     "name": "stdout",
     "output_type": "stream",
     "text": [
      "The email is classified as ham.\n"
     ]
    }
   ],
   "source": [
    "import pandas as pd\n",
    "from sklearn.feature_extraction.text import TfidfVectorizer\n",
    "from sklearn.model_selection import train_test_split\n",
    "from sklearn.svm import SVC\n",
    "data = pd.read_csv(\"C:\\\\Users\\\\Dipak Pawar\\\\Downloads\\\\archive (1)\\\\spam_ham_dataset.csv\")\n",
    "X_train, X_test, y_train, y_test = train_test_split(data['text'], data['label'], test_size=0.2, random_state=42)\n",
    "vectorizer = TfidfVectorizer()\n",
    "X_train = vectorizer.fit_transform(X_train)\n",
    "X_test = vectorizer.transform(X_test)\n",
    "svm = SVC(kernel='linear')\n",
    "svm.fit(X_train, y_train)\n",
    "new_email = [\"Get a special discount on our products today!\"]\n",
    "new_email_features = vectorizer.transform(new_email)\n",
    "prediction = svm.predict(new_email_features)\n",
    "if prediction[0] == 1:\n",
    "    print(\"The email is classified as spam.\")\n",
    "else:\n",
    "    print(\"The email is classified as ham.\")"
   ]
  },
  {
   "cell_type": "code",
   "execution_count": null,
   "id": "0a6da172",
   "metadata": {},
   "outputs": [],
   "source": [
    "2.Using AI, take any random video of your choice,\n",
    "A. Find total number of speakers in a video.\n",
    "B. Find faces and Images in a video.:"
   ]
  },
  {
   "cell_type": "code",
   "execution_count": null,
   "id": "cc94fa7c",
   "metadata": {},
   "outputs": [],
   "source": [
    "Code:"
   ]
  },
  {
   "cell_type": "code",
   "execution_count": null,
   "id": "91be7f7a",
   "metadata": {},
   "outputs": [],
   "source": [
    "import cv2\n",
    "face_cascade = cv2.CascadeClassifier(cv2.data.haarcascades + \"haarcascade_frontalface_default.xml\")\n",
    "video_path = \"C:/Users/Dipak Pawar/Downloads/WhatsApp Video 2023-06-17 at 1.58.24 PM.mp4\"\n",
    "video = cv2.VideoCapture(video_path)\n",
    "total_speakers = 0\n",
    "detected_faces = 0\n",
    "while video.isOpened():\n",
    "    ret, frame = video.read()\n",
    "    if not ret:\n",
    "        break\n",
    "    gray_frame = cv2.cvtColor(frame, cv2.COLOR_BGR2GRAY)\n",
    "    faces = face_cascade.detectMultiScale(gray_frame, scaleFactor=1.1, minNeighbors=5, minSize=(30, 30))\n",
    "    total_speakers += len(faces)\n",
    "    detected_faces += len(faces)\n",
    "    for (x, y, w, h) in faces:\n",
    "        cv2.rectangle(frame, (x, y), (x+w, y+h), (0, 255, 0), 2)\n",
    "    cv2.imshow(\"Video\", frame)\n",
    "    cv2.waitKey(1)\n",
    "print(\"Total number of speakers:\", total_speakers)\n",
    "print(\"Total number of detected faces:\", detected_faces)\n",
    "video.release()\n",
    "cv2.destroyAllWindows()\n"
   ]
  }
 ],
 "metadata": {
  "kernelspec": {
   "display_name": "Python 3 (ipykernel)",
   "language": "python",
   "name": "python3"
  },
  "language_info": {
   "codemirror_mode": {
    "name": "ipython",
    "version": 3
   },
   "file_extension": ".py",
   "mimetype": "text/x-python",
   "name": "python",
   "nbconvert_exporter": "python",
   "pygments_lexer": "ipython3",
   "version": "3.9.7"
  }
 },
 "nbformat": 4,
 "nbformat_minor": 5
}
